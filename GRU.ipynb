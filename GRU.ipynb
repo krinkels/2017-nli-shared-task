{
 "cells": [
  {
   "cell_type": "code",
   "execution_count": null,
   "metadata": {
    "collapsed": false
   },
   "outputs": [],
   "source": [
    "from __future__ import division\n",
    "\n",
    "import numpy as np\n",
    "import matplotlib.pyplot as plt\n",
    "import tensorflow as tf\n",
    "import math\n",
    "import json\n",
    "\n",
    "import datautils\n",
    "\n",
    "%matplotlib inline\n",
    "plt.rcParams['figure.figsize'] = (5.0, 5.0) # set default size of plots\n",
    "plt.rcParams['image.interpolation'] = 'nearest'\n",
    "plt.rcParams['image.cmap'] = 'gray'\n",
    "\n",
    "%load_ext autoreload\n",
    "%autoreload 2"
   ]
  },
  {
   "cell_type": "code",
   "execution_count": null,
   "metadata": {
    "collapsed": false
   },
   "outputs": [],
   "source": [
    "num_classes = 11\n",
    "feature_dim = datautils.FEATURE_DIM"
   ]
  },
  {
   "cell_type": "code",
   "execution_count": null,
   "metadata": {
    "collapsed": false
   },
   "outputs": [],
   "source": [
    "print(\"Loading GloVe\")\n",
    "glove_dict = datautils.load_glove_dict()\n",
    "print(\"Loading training data\")\n",
    "X_train, lens_train = datautils.load_train_examples(glove_dict)\n",
    "y_train = datautils.load_train_labels()\n",
    "print(\"Loading dev data\")\n",
    "X_val, lens_val = datautils.load_dev_examples(glove_dict)\n",
    "y_val = datautils.load_dev_labels()"
   ]
  },
  {
   "cell_type": "code",
   "execution_count": null,
   "metadata": {
    "collapsed": false
   },
   "outputs": [],
   "source": [
    "print(\"X_train:\", X_train.shape, X_train.dtype)\n",
    "print(\"lens_train:\", lens_train.shape, lens_train.dtype)\n",
    "print(\"y_train:\", y_train.shape, y_train.dtype)\n",
    "\n",
    "print(\"X_val:\", X_val.shape, X_val.dtype)\n",
    "print(\"lens_val:\", lens_val.shape, lens_val.dtype)\n",
    "print(\"y_val:\", y_val.shape, y_val.dtype)"
   ]
  },
  {
   "cell_type": "code",
   "execution_count": null,
   "metadata": {
    "collapsed": false
   },
   "outputs": [],
   "source": [
    "tf.reset_default_graph()\n",
    "X = tf.placeholder(tf.float32, [None, None, feature_dim])\n",
    "y = tf.placeholder(tf.int64, [None])\n",
    "lens = tf.placeholder(tf.int64, [None])\n",
    "\n",
    "lr = 1e-3\n",
    "dr = 0.5\n",
    "\n",
    "learning_rate = tf.placeholder(tf.float32)\n",
    "dropout = tf.placeholder(tf.float32)\n",
    "is_training = tf.placeholder(tf.bool)\n",
    "\n",
    "cell_size = 192\n",
    "\n",
    "cell1 = tf.contrib.rnn.GRUCell(cell_size)\n",
    "cell2 = tf.contrib.rnn.GRUCell(cell_size)\n",
    "multicell = tf.contrib.rnn.MultiRNNCell(cells=[cell1, cell2])\n",
    "\n",
    "outputs, states = tf.nn.dynamic_rnn(multicell, X, dtype=tf.float32, sequence_length=lens) # Outputs: N x L x W\n",
    "#sampled_outputs = tf.reshape(outputs[:, 3:211:3], [-1, 70 * cell_size])\n",
    "batch_size = tf.shape(X)[0]\n",
    "indices = tf.stack([tf.range(batch_size), tf.maximum(0, tf.cast(lens, tf.int32) - 1)], axis = 1)\n",
    "sampled_outputs = tf.gather_nd(outputs, indices)\n",
    "\n",
    "# TODO: figure out why some transcriptions have length 0\n",
    "d1 = tf.layers.dropout(sampled_outputs, rate=dropout, training=is_training)\n",
    "#regularizer = tf.contrib.layers.l2_regularizer(1e0)\n",
    "y_out = tf.layers.dense(d1, num_classes)\n",
    "\n",
    "#reg_loss = tf.get_collection(tf.GraphKeys.REGULARIZATION_LOSSES)\n",
    "mean_loss = tf.reduce_mean(tf.nn.softmax_cross_entropy_with_logits(labels=tf.one_hot(y, num_classes), logits=y_out))\n",
    "optimizer = tf.train.AdamOptimizer(learning_rate)\n",
    "\n",
    "# batch normalization in tensorflow requires this extra dependency\n",
    "extra_update_ops = tf.get_collection(tf.GraphKeys.UPDATE_OPS)\n",
    "with tf.control_dependencies(extra_update_ops):\n",
    "    train_step = optimizer.minimize(mean_loss)"
   ]
  },
  {
   "cell_type": "code",
   "execution_count": null,
   "metadata": {
    "collapsed": true
   },
   "outputs": [],
   "source": [
    "def run_model(session, predict, loss_val, Xd, yd, lensd,\n",
    "              epochs=1, batch=64, print_every=100,\n",
    "              training=None, plot_losses=False):\n",
    "    # have tensorflow compute accuracy\n",
    "    correct_prediction = tf.equal(tf.argmax(predict,1), y)\n",
    "    accuracy = tf.reduce_mean(tf.cast(correct_prediction, tf.float32))\n",
    "    \n",
    "    # shuffle indicies\n",
    "    train_indicies = np.arange(Xd.shape[0])\n",
    "    np.random.shuffle(train_indicies)\n",
    "\n",
    "    training_now = training is not None\n",
    "    \n",
    "    # setting up variables we want to compute (and optimizing)\n",
    "    # if we have a training function, add that to things we compute\n",
    "    variables = [mean_loss,correct_prediction,accuracy]\n",
    "    if training_now:\n",
    "        variables[-1] = training\n",
    "    \n",
    "    # counter \n",
    "    iter_cnt = 0\n",
    "    for e in range(epochs):\n",
    "        # keep track of losses and accuracy\n",
    "        correct = 0\n",
    "        losses = []\n",
    "        # make sure we iterate over the dataset once\n",
    "        for i in range(int(math.ceil(Xd.shape[0]/batch))):\n",
    "            # generate indicies for the batch\n",
    "            start_idx = (i*batch)%Xd.shape[0]\n",
    "            idx = train_indicies[start_idx:start_idx+batch]\n",
    "            \n",
    "            # get batch size\n",
    "            actual_batch_size = yd[i:i+batch].shape[0]\n",
    "\n",
    "            # create a feed dictionary for this batch\n",
    "            feed_dict = {X: Xd[idx],\n",
    "                         y: yd[idx],\n",
    "                         lens: lensd[idx],\n",
    "                         is_training: training_now,\n",
    "                         learning_rate: lr,\n",
    "                         dropout: dr\n",
    "                         }\n",
    "            \n",
    "            # have tensorflow compute loss and correct predictions\n",
    "            # and (if given) perform a training step\n",
    "            loss, corr, _ = session.run(variables,feed_dict=feed_dict)\n",
    "            \n",
    "            # aggregate performance stats\n",
    "            losses.append(loss*actual_batch_size)\n",
    "            correct += np.sum(corr)\n",
    "            \n",
    "            iter_cnt += 1\n",
    "            # print every now and then\n",
    "            if training_now and (iter_cnt % print_every) == 0:\n",
    "                print(\"Iteration {0}: with minibatch training loss = {1:.3g} and accuracy of {2:.2g}\"\\\n",
    "                      .format(iter_cnt,loss,np.sum(corr)/actual_batch_size))\n",
    "        total_correct = correct/Xd.shape[0]\n",
    "        total_loss = np.sum(losses)/Xd.shape[0]\n",
    "        print(\"Epoch {2}, Overall loss = {0:.3g} and accuracy of {1:.3g}\"\\\n",
    "              .format(total_loss,total_correct,e+1))\n",
    "        if plot_losses:\n",
    "            plt.plot(losses)\n",
    "            plt.grid(True)\n",
    "            plt.title('Epoch {} Loss'.format(e+1))\n",
    "            plt.xlabel('minibatch number')\n",
    "            plt.ylabel('minibatch loss')\n",
    "            plt.show()\n",
    "    return total_loss,total_correct"
   ]
  },
  {
   "cell_type": "code",
   "execution_count": null,
   "metadata": {
    "collapsed": true
   },
   "outputs": [],
   "source": [
    "sess = tf.Session()\n",
    "sess.run(tf.global_variables_initializer())\n",
    "run_data = []\n",
    "model_name = \"gru-2-{}-d5\".format(cell_size)"
   ]
  },
  {
   "cell_type": "code",
   "execution_count": null,
   "metadata": {
    "collapsed": false
   },
   "outputs": [],
   "source": [
    "epochs = 3\n",
    "lr = 1e-4\n",
    "dr = 0.5\n",
    "for i in range(epochs):\n",
    "    train_loss, train_acc = run_model(session=sess,\n",
    "                          predict=y_out,\n",
    "                          loss_val=mean_loss,\n",
    "                          Xd=X_train,\n",
    "                          yd=y_train,\n",
    "                          lensd=lens_train,\n",
    "                          epochs=1,\n",
    "                          batch=128,\n",
    "                          print_every=25,\n",
    "                          training=train_step,\n",
    "                          plot_losses=True)\n",
    "    val_loss, val_acc = run_model(session=sess,\n",
    "                          predict=y_out,\n",
    "                          loss_val=mean_loss,\n",
    "                          Xd=X_val,\n",
    "                          yd=y_val,\n",
    "                          lensd=lens_val,\n",
    "                          epochs=1,\n",
    "                          batch=X_val.shape[0],\n",
    "                          print_every=1,\n",
    "                          training=None,\n",
    "                          plot_losses=False)\n",
    "    run_dct = {\"lr\" : lr, \"dr\" : dr, \"train_loss\": train_loss, \"train_acc\": train_acc,\n",
    "               \"val_loss\": val_loss, \"val_acc\" : val_acc}\n",
    "    run_data.append(run_dct)\n",
    "    \n",
    "    f = open(\"./checkpoints/{}.txt\".format(model_name), 'w')\n",
    "    f.write(json.dumps(run_data))\n",
    "    f.close()\n",
    "    \n",
    "    #saver = tf.train.Saver(max_to_keep=None)\n",
    "    #saver.save(sess, \"./checkpoints/\" + model_name, global_step=len(run_data), latest_filename=model_name)"
   ]
  },
  {
   "cell_type": "code",
   "execution_count": null,
   "metadata": {
    "collapsed": false
   },
   "outputs": [],
   "source": [
    "print(model_name)\n",
    "plt.plot([ dct[\"train_loss\"] for dct in run_data], label='Train')\n",
    "plt.plot([ dct[\"val_loss\"] for dct in run_data], label='Val')\n",
    "plt.grid(True)\n",
    "plt.title('Loss')\n",
    "plt.xlabel('Epoch')\n",
    "plt.ylabel('Loss')\n",
    "plt.legend()\n",
    "plt.show()\n",
    "\n",
    "plt.plot([ dct[\"train_acc\"] for dct in run_data], label='Train')\n",
    "plt.plot([ dct[\"val_acc\"] for dct in run_data], label='Val')\n",
    "plt.grid(True)\n",
    "plt.title('Accuracy')\n",
    "plt.xlabel('Epoch')\n",
    "plt.ylabel('Accuracy')\n",
    "plt.legend()\n",
    "plt.show()\n",
    "\n",
    "print(\"Max validation accuracy: {}\".format(max([ dct[\"val_acc\"] for dct in run_data])))"
   ]
  },
  {
   "cell_type": "code",
   "execution_count": null,
   "metadata": {
    "collapsed": false
   },
   "outputs": [],
   "source": [
    "model_name = \"gru-2-192-d2\"\n",
    "f = open(\"./checkpoints/{}.txt\".format(model_name), 'r')\n",
    "run_data = json.loads(f.read())\n",
    "f.close()\n",
    "\n",
    "best_epoch = np.argmax([ run_dict[\"val_acc\"] for run_dict in run_data]) + 1\n",
    "\n",
    "saver = tf.train.Saver(max_to_keep=None)\n",
    "saver.restore(sess, \"./checkpoints/{}-{}\".format(model_name, best_epoch))\n",
    "print(\"Restoring {}-{}\".format(model_name, best_epoch))"
   ]
  },
  {
   "cell_type": "code",
   "execution_count": null,
   "metadata": {
    "collapsed": false
   },
   "outputs": [],
   "source": [
    "predictions = tf.argmax(y_out, axis=1)\n",
    "feed_dict = {X : X_val,\n",
    "             y: y_val,\n",
    "             lens: lens_val,\n",
    "             is_training: False,\n",
    "             dropout: 0.2,\n",
    "             learning_rate: 1e-3\n",
    "            }\n",
    "out = sess.run([predictions], feed_dict=feed_dict)[0]"
   ]
  },
  {
   "cell_type": "code",
   "execution_count": null,
   "metadata": {
    "collapsed": false
   },
   "outputs": [],
   "source": [
    "class_accs = np.zeros(11)\n",
    "for i in range(1100):\n",
    "    class_accs[y_val[i]] += 1 if y_val[i] == out[i] else 0\n",
    "print(\"\\n\".join([str(int(acc)) for acc in class_accs]))\n",
    "print(np.mean(y_val == out))"
   ]
  },
  {
   "cell_type": "code",
   "execution_count": null,
   "metadata": {
    "collapsed": true
   },
   "outputs": [],
   "source": []
  }
 ],
 "metadata": {
  "kernelspec": {
   "display_name": "Python 3",
   "language": "python",
   "name": "python3"
  },
  "language_info": {
   "codemirror_mode": {
    "name": "ipython",
    "version": 3
   },
   "file_extension": ".py",
   "mimetype": "text/x-python",
   "name": "python",
   "nbconvert_exporter": "python",
   "pygments_lexer": "ipython3",
   "version": "3.5.2"
  }
 },
 "nbformat": 4,
 "nbformat_minor": 2
}
